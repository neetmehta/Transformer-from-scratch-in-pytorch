{
 "cells": [
  {
   "cell_type": "code",
   "execution_count": 15,
   "id": "e33cfba3",
   "metadata": {},
   "outputs": [],
   "source": [
    "from torch.utils.data import DataLoader\n",
    "from model import build_transformer\n",
    "from utils import generate_causal_mask, greedy_decode, calculate_bleu_score\n",
    "from configs.transformer_tiny import Config\n",
    "from transformers import AutoTokenizer\n",
    "from data import WMTDataset\n",
    "import torch\n",
    "\n",
    "tokenizer = AutoTokenizer.from_pretrained(\"facebook/wmt19-en-de\")\n",
    "special_token_dict = {\"bos_token\": \"<s>\"}\n",
    "tokenizer.add_special_tokens(special_token_dict)\n",
    "\n",
    "tokenizer.encode(\"hi my name is neet\")\n",
    "    \n",
    "ds = WMTDataset(\"small.csv\", tokenizer, tokenizer, 400)\n",
    "\n",
    "config = Config()\n",
    "\n",
    "model = build_transformer(config)\n",
    "\n",
    "state_dict = torch.load(\"best_ckpt_tiny_test.pth\")['model_state_dict']\n",
    "\n",
    "model.load_state_dict(state_dict=state_dict)\n",
    "\n",
    "dataloader = DataLoader(ds, batch_size=1, shuffle=True)\n",
    "\n",
    "loss = torch.nn.CrossEntropyLoss(ignore_index=tokenizer.convert_tokens_to_ids(\"<pad>\"), label_smoothing=0.1)\n",
    "\n"
   ]
  },
  {
   "cell_type": "code",
   "execution_count": 20,
   "id": "6a355f2e",
   "metadata": {},
   "outputs": [],
   "source": [
    "for batch in dataloader:\n",
    "    src, tgt, label, src_mask, tgt_mask = batch\n",
    "    # enc_self_attn_mask = src_mask.unsqueeze(2) | src_mask.unsqueeze(3)\n",
    "    # causal_mask = generate_causal_mask(config.seq_len)\n",
    "    # dec_self_attn_mask = tgt_mask.unsqueeze(2) | tgt_mask.unsqueeze(3) | causal_mask\n",
    "    # dec_cross_attn_mask = tgt_mask.unsqueeze(3) | src_mask.unsqueeze(2)\n",
    "    \n",
    "    # y = model(src, tgt, enc_self_attn_mask, dec_self_attn_mask, dec_cross_attn_mask)\n",
    "    \n",
    "    \n",
    "    \n",
    "    break"
   ]
  },
  {
   "cell_type": "code",
   "execution_count": 21,
   "id": "e61124f2",
   "metadata": {},
   "outputs": [],
   "source": [
    "_, text = greedy_decode(src, src_mask, model, tokenizer, config, 'cpu')"
   ]
  },
  {
   "cell_type": "code",
   "execution_count": 22,
   "id": "78553a7f",
   "metadata": {},
   "outputs": [
    {
     "data": {
      "text/plain": [
       "'Ein Fahrverbot blieb ihm wegen der besonderen Situation erspart - die Geldstrafe aber nicht. </s><pad><pad><pad><pad><pad><pad><pad><pad><pad><pad><pad><pad><pad><pad><pad><pad><pad><pad><pad><pad><pad><pad><pad><pad><pad><pad><pad><pad><pad><pad><pad><pad><pad><pad><pad><pad><pad><pad><pad><pad><pad><pad><pad><pad><pad><pad><pad><pad><pad><pad><pad><pad><pad><pad><pad><pad><pad><pad><pad><pad><pad><pad><pad><pad><pad><pad><pad><pad><pad><pad><pad><pad><pad><pad><pad><pad><pad><pad><pad><pad><pad><pad><pad><pad><pad><pad><pad><pad><pad><pad><pad><pad><pad><pad><pad><pad><pad><pad><pad><pad><pad><pad><pad><pad><pad><pad><pad><pad><pad><pad><pad><pad><pad><pad><pad><pad><pad><pad><pad><pad><pad><pad><pad><pad><pad><pad><pad><pad><pad><pad><pad><pad><pad><pad><pad><pad><pad><pad><pad><pad><pad><pad><pad><pad><pad><pad><pad><pad><pad><pad><pad><pad><pad><pad><pad><pad><pad><pad><pad><pad><pad><pad><pad><pad><pad><pad><pad><pad><pad><pad><pad><pad><pad><pad><pad><pad><pad><pad><pad><pad><pad><pad><pad><pad><pad><pad><pad><pad><pad><pad><pad><pad><pad><pad><pad><pad><pad><pad><pad><pad><pad><pad><pad><pad><pad><pad><pad><pad><pad><pad><pad><pad><pad><pad><pad><pad><pad><pad><pad><pad><pad><pad><pad><pad><pad><pad><pad><pad><pad><pad><pad><pad><pad><pad><pad><pad><pad><pad><pad><pad><pad><pad><pad><pad><pad><pad><pad><pad><pad><pad><pad><pad><pad><pad><pad><pad><pad><pad><pad><pad><pad><pad><pad><pad><pad><pad><pad><pad><pad><pad><pad><pad><pad><pad><pad><pad><pad><pad><pad><pad><pad><pad><pad><pad><pad><pad><pad><pad><pad><pad><pad><pad><pad><pad><pad><pad><pad><pad><pad><pad><pad><pad><pad><pad><pad><pad><pad><pad><pad><pad><pad><pad><pad><pad><pad><pad><pad><pad><pad><pad><pad><pad><pad><pad><pad><pad><pad><pad><pad><pad><pad><pad><pad><pad><pad><pad><pad><pad><pad><pad><pad><pad><pad><pad><pad><pad><pad><pad><pad><pad><pad><pad><pad><pad><pad><pad><pad><pad><pad><pad><pad><pad><pad><pad><pad><pad><pad><pad><pad><pad><pad><pad><pad><pad><pad><pad><pad><pad><pad><pad><pad><pad>'"
      ]
     },
     "execution_count": 22,
     "metadata": {},
     "output_type": "execute_result"
    }
   ],
   "source": [
    "tokenizer.decode(label[0].tolist())"
   ]
  },
  {
   "cell_type": "code",
   "execution_count": 23,
   "id": "aa6590ac",
   "metadata": {},
   "outputs": [
    {
     "data": {
      "text/plain": [
       "'Ein Fahrverbot blieb ihm wegen der besonderen Situation erspart - die Geldstrafe aber nicht.'"
      ]
     },
     "execution_count": 23,
     "metadata": {},
     "output_type": "execute_result"
    }
   ],
   "source": [
    "text"
   ]
  },
  {
   "cell_type": "code",
   "execution_count": 6,
   "id": "184c53d3",
   "metadata": {},
   "outputs": [
    {
     "ename": "TypeError",
     "evalue": "exceptions must derive from BaseException",
     "output_type": "error",
     "traceback": [
      "\u001b[1;31m---------------------------------------------------------------------------\u001b[0m",
      "\u001b[1;31mTypeError\u001b[0m                                 Traceback (most recent call last)",
      "Input \u001b[1;32mIn [6]\u001b[0m, in \u001b[0;36m<cell line: 3>\u001b[1;34m()\u001b[0m\n\u001b[0;32m      1\u001b[0m \u001b[38;5;28;01mimport\u001b[39;00m \u001b[38;5;21;01mtorchmetrics\u001b[39;00m\n\u001b[0;32m      2\u001b[0m metrics \u001b[38;5;241m=\u001b[39m torchmetrics\u001b[38;5;241m.\u001b[39mtext\u001b[38;5;241m.\u001b[39mBLEUScore()\n\u001b[1;32m----> 3\u001b[0m \u001b[43mcalculate_bleu_score\u001b[49m\u001b[43m(\u001b[49m\u001b[43mmetrics\u001b[49m\u001b[43m,\u001b[49m\u001b[43m \u001b[49m\u001b[43mtext\u001b[49m\u001b[43m,\u001b[49m\u001b[43m \u001b[49m\u001b[43mtext\u001b[49m\u001b[43m)\u001b[49m\n",
      "File \u001b[1;32me:\\Transformer-from-scratch-in-pytorch\\utils.py:92\u001b[0m, in \u001b[0;36mcalculate_bleu_score\u001b[1;34m(label, pred, metric_name)\u001b[0m\n\u001b[0;32m     89\u001b[0m     score \u001b[38;5;241m=\u001b[39m metrics([pred], [[label]])\n\u001b[0;32m     91\u001b[0m \u001b[38;5;28;01melse\u001b[39;00m:\n\u001b[1;32m---> 92\u001b[0m     \u001b[38;5;28;01mraise\u001b[39;00m (\u001b[38;5;124m\"\u001b[39m\u001b[38;5;124munknown metrics\u001b[39m\u001b[38;5;124m\"\u001b[39m)\n\u001b[0;32m     93\u001b[0m \u001b[38;5;28;01mreturn\u001b[39;00m score\u001b[38;5;241m.\u001b[39mitem()\n",
      "\u001b[1;31mTypeError\u001b[0m: exceptions must derive from BaseException"
     ]
    }
   ],
   "source": [
    "import torchmetrics\n",
    "metrics = torchmetrics.text.BLEUScore()\n",
    "calculate_bleu_score(metrics, text, text)"
   ]
  },
  {
   "cell_type": "code",
   "execution_count": null,
   "id": "a5c85801",
   "metadata": {},
   "outputs": [
    {
     "data": {
      "text/plain": [
       "tensor(1.)"
      ]
     },
     "execution_count": 7,
     "metadata": {},
     "output_type": "execute_result"
    }
   ],
   "source": [
    "from torchmetrics.text import BLEUScore\n",
    "preds = ['Von daher werden sie gegen ihren Ex-Coach sicher ganz besonders motiviert sein.']\n",
    "target = [['Von daher werden sie gegen ihren Ex-Coach sicher ganz besonders motiviert sein.', 'Von daher werden sie gegen ihren Ex-Coach sicher ganz besonders motiviert sein.']]\n",
    "bleu = BLEUScore()\n",
    "bleu(preds, target)"
   ]
  },
  {
   "cell_type": "code",
   "execution_count": null,
   "id": "bc771797",
   "metadata": {},
   "outputs": [
    {
     "data": {
      "text/plain": [
       "42024"
      ]
     },
     "execution_count": 18,
     "metadata": {},
     "output_type": "execute_result"
    }
   ],
   "source": [
    "tokenizer.vocab_size\n"
   ]
  },
  {
   "cell_type": "code",
   "execution_count": null,
   "id": "8bc4a335",
   "metadata": {},
   "outputs": [],
   "source": []
  }
 ],
 "metadata": {
  "kernelspec": {
   "display_name": "Python 3",
   "language": "python",
   "name": "python3"
  },
  "language_info": {
   "codemirror_mode": {
    "name": "ipython",
    "version": 3
   },
   "file_extension": ".py",
   "mimetype": "text/x-python",
   "name": "python",
   "nbconvert_exporter": "python",
   "pygments_lexer": "ipython3",
   "version": "3.10.8"
  }
 },
 "nbformat": 4,
 "nbformat_minor": 5
}
